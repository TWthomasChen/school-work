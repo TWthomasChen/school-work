{
 "cells": [
  {
   "cell_type": "markdown",
   "id": "7160bbdb",
   "metadata": {},
   "source": [
    "### 上傳前，請確認已將檔名後面 XXXXXXXXX 的部分更改為自己的學號，英文部分大寫。未更改檔名者該次實作成績扣 $20$ 分"
   ]
  },
  {
   "cell_type": "markdown",
   "id": "58f3b7d9",
   "metadata": {},
   "source": [
    "## 1. 該怎麼找錢\n",
    "\n",
    "<h3>題目敘述：</h3><br>\n",
    "如果你在一家零售店幫消費的客人結帳，你可能需要快速地挑出合適且數量正確的鈔票與零錢。假設客人的消費金額 aa 一定是 1 到 1000 之間的整數，而你有無限量的 500、100、50、10、5、1 這些面額的鈔票和零錢，我們希望你能依照下面的規則找錢：\n",
    "\n",
    "你找的錢的總額要是 1000 - aa。\n",
    "\n",
    "與其給客人五張 100 元，不如給他一張 500元；與其給客人兩個 50 元，不如給他一張 100 元……依此類推。\n",
    "\n",
    "以下是一些範例：\n",
    "\n",
    "- 如果客人消費 200 元，你應該找給他 1 張 500 元和 3 張 100 元。\n",
    "- 如果客人消費 286 元，你應該找給他 1 張 500 元、2 張 100 元、1 個 10 元和 4 個一元。\n",
    "- 如果客人消費 925 元，你應該找給他 1 個 50 元、2 個 10 元和 1 個 5 元。\n",
    "\n",
    "我們希望你詢問使用者花費金額，並輸出<b>符合上述規則的唯一找錢方式</b>。以下是輸入和輸出範例："
   ]
  },
  {
   "cell_type": "markdown",
   "id": "770a5f30",
   "metadata": {},
   "source": [
    "<i>範例一</i>\n",
    "\n",
    "<b>輸入部分</b>\n",
    "<pre>\n",
    "請輸入金額(1~1000):321\n",
    "</pre>\n",
    "\n",
    "<b>輸出部分</b>\n",
    "<pre>\n",
    "1 * 500 + 1 * 100 + 1 * 50 + 2 * 10 + 1 * 5 + 4 * 1\n",
    "</pre>\n",
    "\n",
    "<i>範例二</i>\n",
    "\n",
    "<b>輸入部分</b>\n",
    "<pre>\n",
    "請輸入金額(1~1000):200\n",
    "</pre>\n",
    "\n",
    "<b>輸出部分</b>\n",
    "<pre>\n",
    "1 * 500 + 3 * 100 + 0 * 50 + 0 * 10 + 0 * 5 + 0 * 1\n",
    "</pre>"
   ]
  },
  {
   "cell_type": "code",
   "execution_count": null,
   "id": "0636e6bb",
   "metadata": {},
   "outputs": [],
   "source": [
    "##第一題作答區，請在此區撰寫程式碼、並留下執行結果\n",
    "Cash = input('請輸入金額(1~1000): ')\n",
    "refund = (1000 - int(Cash))\n",
    "#print(refund)\n",
    "a = int(refund)//500\n",
    "b = (int(refund)-500*a)//100\n",
    "c = (int(refund)-500*a-100*b)//50\n",
    "d = (int(refund)-500*a-100*b-50*c)//10\n",
    "e = (int(refund)-500*a-100*b-50*c-10*d)//5\n",
    "f = (int(refund)-500*a-100*b-50*c-10*d-5*e)\n",
    "    \n",
    "print(a,\"*500+\",b,'*100+',c,\"*50+\",d,\"*10+\",e,\"*5+\",f,\"*1\")\n",
    "\n",
    "\n"
   ]
  },
  {
   "cell_type": "markdown",
   "id": "9bc301d5",
   "metadata": {},
   "source": [
    "## 2. 產生電子郵件簽名檔\n",
    "\n",
    "<h3>題目敘述：</h3><br>\n",
    "書信撰寫時需要注意書寫格式，寫電子郵件也不例外：為了讓大學生依正式格式撰寫電子郵件，請你設計依照使用者輸入、產出固定格式的電子郵件簽名檔的程式。以成大學生可能會使用的電子郵件簽名檔為例，簽名檔包含：姓名、學校名稱及系級、聯絡電話及電子信箱地址。假設使用者為成大學生，我們希望你詢問使用者的中英姓名、科系名稱、學號和聯絡電話，再輸出使用者的電子郵件簽名檔。以下是輸入和輸出範例："
   ]
  },
  {
   "cell_type": "markdown",
   "id": "a25b6689",
   "metadata": {},
   "source": [
    "<b>輸入部分</b>\n",
    "<pre>\n",
    "請輸入中文姓名:李曉龍\n",
    "請輸入英文姓名:Blues Lee\n",
    "請輸入科系英文縮寫:IIM\n",
    "請輸入學號:h34121000\n",
    "請輸入連絡電話:0912345678\n",
    "</pre>\n",
    "\n",
    "<b>輸出部分</b>\n",
    "<pre>\n",
    "李曉龍 Blues Lee\n",
    "NCKU IIM 116\n",
    "Phone: +886 912 345 678\n",
    "Email: h34121000@gs.ncku.edu.tw\n",
    "</pre>"
   ]
  },
  {
   "cell_type": "markdown",
   "id": "9199cabb",
   "metadata": {},
   "source": [
    "以 <code>李曉龍</code> 的學號 <code>h34121000</code> 為例，學號中第4、5位字元 <code>12</code> 代表入學年度末兩碼（民國112年入學），若他就讀科系 <code>IIM</code> 四年的學士學程，系級中數字部份便是 <code>116</code>（預計畢業年份）；而電子信箱部分，將學號（首位字母大小寫皆可）加上 <code>@gs.ncku.edu.tw</code> 則成為成大學生電子信箱地址。\n",
    "\n",
    "P.S. 預設使用者就讀<b>四年</b>的學士學程；輸入連絡電話時，預設使用者會輸入<b>行動電話號碼（10個數字）</b>。"
   ]
  },
  {
   "cell_type": "code",
   "execution_count": 27,
   "id": "3cc741b8",
   "metadata": {},
   "outputs": [
    {
     "name": "stdout",
     "output_type": "stream",
     "text": [
      "請輸入中文姓名:陳廷豪\n",
      "請輸入英文姓名:thomas\n",
      "請輸入科系英文縮寫:IIM\n",
      "請輸入學號:H34111130\n",
      "請輸入連絡電話:0938526278\n",
      "陳廷豪thomas\n",
      "NCKU IIM115\n",
      "Phone: +886938526278\n",
      "Email: H34111130@gs.ncku.edu.tw\n"
     ]
    }
   ],
   "source": [
    "##第二題作答區，請在此區撰寫程式碼、並留下執行結果\n",
    "ch_name= input(\"請輸入中文姓名:\")\n",
    "eng_name = input(\"請輸入英文姓名:\")\n",
    "major = input('請輸入科系英文縮寫:')\n",
    "ID = input(\"請輸入學號:\")\n",
    "phone = input(\"請輸入連絡電話:\")\n",
    "\n",
    "print(ch_name +\" \"+ eng_name)\n",
    "print(\"NCKU \"+ major+\" \" + str(int(ID[4:6])+104))\n",
    "print(\"Phone: +886\" + \" \"+str(phone[1:4])+ \" \"+str(phone[4:7])+\" \"+str(phone[7:10]))\n",
    "print(\"Email: \" + str(ID) + \"@gs.ncku.edu.tw\")\n"
   ]
  },
  {
   "cell_type": "markdown",
   "id": "2af74689",
   "metadata": {},
   "source": [
    "## 3. 真正的密碼\n",
    "\n",
    "<h3>題目敘述：</h3><br>\n",
    "為了要擾亂視聽，有個產品的密碼設計如下，先輸入一長串密碼之後，再輸入兩個數分別代表真正密碼的開頭處和結尾處，從原先輸入的密碼擷取出真正的密碼，最後再輸出真正的密碼。開頭處的值代表從頭數第幾位字元做為真正密碼的開頭<b>（真正密碼包含該字元）<>，結尾處的值代表從後數第幾位字元做為真正密碼的結尾<b>（真正密碼包含該字元）</b>。我們希望你設計出這個產品的程式。以下是輸入和輸出的範例："
   ]
  },
  {
   "cell_type": "markdown",
   "id": "d78b7a55",
   "metadata": {},
   "source": [
    "<b>輸入部分</b>\n",
    "<pre>\n",
    "請輸入密碼(必須為10位以上):abcd123456\n",
    "開頭處:3\n",
    "結尾處:4\n",
    "</pre>\n",
    "\n",
    "<b>輸出部分</b>\n",
    "<pre>\n",
    "真正密碼為:cd123\n",
    "</pre>"
   ]
  },
  {
   "cell_type": "markdown",
   "id": "c9b526b9",
   "metadata": {},
   "source": [
    "以上述輸入為例：<br><br>\n",
    "開頭處為 <code>3</code> 代表真正的密碼從原先輸入密碼的第3位字元 <code>c</code> 開始採用，結尾處為 <code>4</code> 代表真正的密碼採用至原先輸入密碼的倒數第4位字元 <code>3</code> <br>\n",
    "所以最後輸出的密碼是<b>原先輸入密碼中開頭第3字元到倒數第4字元</b>的 <code>cd123</code>\n",
    "\n",
    "P.S. 輸入原密碼時，預設使用者會輸入<b>10個以上字元</b>的原密碼；輸入開頭處和結尾處時，預設使用者會輸入<b>1到5</b>的整數。"
   ]
  },
  {
   "cell_type": "code",
   "execution_count": 25,
   "id": "8e602e38",
   "metadata": {},
   "outputs": [
    {
     "name": "stdout",
     "output_type": "stream",
     "text": [
      "請輸入密碼(必須為10位以上):abcd123546\n",
      "開頭處:3\n",
      "結尾處:4\n",
      "真正密碼為: cd123\n"
     ]
    }
   ],
   "source": [
    "##第三題作答區，請在此區撰寫程式碼、並留下執行結果\n",
    "code = input(\"請輸入密碼(必須為10位以上):\")\n",
    "start = input(\"開頭處:\")\n",
    "end = input(\"結尾處:\")\n",
    "\n",
    "print(\"真正密碼為: \" + code[int(start)-1:-int(end)+1])"
   ]
  },
  {
   "cell_type": "code",
   "execution_count": null,
   "id": "2b2eee89",
   "metadata": {},
   "outputs": [],
   "source": []
  }
 ],
 "metadata": {
  "kernelspec": {
   "display_name": "Python 3 (ipykernel)",
   "language": "python",
   "name": "python3"
  },
  "language_info": {
   "codemirror_mode": {
    "name": "ipython",
    "version": 3
   },
   "file_extension": ".py",
   "mimetype": "text/x-python",
   "name": "python",
   "nbconvert_exporter": "python",
   "pygments_lexer": "ipython3",
   "version": "3.9.12"
  }
 },
 "nbformat": 4,
 "nbformat_minor": 5
}
