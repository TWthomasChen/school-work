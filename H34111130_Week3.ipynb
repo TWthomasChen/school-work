{
 "cells": [
  {
   "cell_type": "code",
   "execution_count": 20,
   "metadata": {
    "colab": {
     "base_uri": "https://localhost:8080/"
    },
    "id": "7hdI-J4UmUJd",
    "outputId": "d9af0517-8747-4821-d807-48abc0b730f2"
   },
   "outputs": [
    {
     "name": "stdout",
     "output_type": "stream",
     "text": [
      "Overwriting H34111130_Week3.cpp\n"
     ]
    }
   ],
   "source": [
    "%%writefile H34111130_Week3.cpp\n",
    "\n",
    "#include <iostream>\n",
    "\n",
    "int main(){\n",
    "  using namespace std;\n",
    "  int Year;\n",
    "  \n",
    "  cout << \"Input a four digits AD year: \";\n",
    "  cin >> Year;\n",
    "  \n",
    "  if(Year<1000)\n",
    "  {\n",
    "    cout << \"Wrong input!\";\n",
    "    return 0;\n",
    "  //先判斷是不是4位數年份\n",
    "  }\n",
    "  else if (Year % 400 == 0)\n",
    "  {\n",
    "    cout << \"Leap year\";\n",
    "  //如果是400的倍數 即是閏年\n",
    "  }\n",
    "  else if (Year % 4 ==0 and Year % 100 != 0)\n",
    "  {\n",
    "    cout << \"Leap year\";\n",
    "  //如果是4的倍數 且 不是100的倍數 即是閏年\n",
    "  }\n",
    "  else\n",
    "  {\n",
    "    cout << \"Common year\";\n",
    "  //以上兩個條件皆不滿足 即是普通年\n",
    "  }\n",
    "}"
   ]
  },
  {
   "cell_type": "code",
   "execution_count": 24,
   "metadata": {
    "colab": {
     "base_uri": "https://localhost:8080/"
    },
    "id": "7lYyrGK0npEI",
    "outputId": "6b8460d9-70bf-4c11-eeb7-40ed026da6af"
   },
   "outputs": [
    {
     "name": "stdout",
     "output_type": "stream",
     "text": [
      "Input a four digits AD year: 1612\n",
      "Leap year"
     ]
    },
    {
     "data": {
      "text/plain": []
     },
     "execution_count": 24,
     "metadata": {},
     "output_type": "execute_result"
    }
   ],
   "source": [
    "%%shell\n",
    "\n",
    "g++ H34111130_Week3.cpp -o H34111130_Week3;\n",
    "./H34111130_Week3"
   ]
  }
 ],
 "metadata": {
  "colab": {
   "provenance": []
  },
  "kernelspec": {
   "display_name": "Python 3 (ipykernel)",
   "language": "python",
   "name": "python3"
  },
  "language_info": {
   "codemirror_mode": {
    "name": "ipython",
    "version": 3
   },
   "file_extension": ".py",
   "mimetype": "text/x-python",
   "name": "python",
   "nbconvert_exporter": "python",
   "pygments_lexer": "ipython3",
   "version": "3.9.12"
  }
 },
 "nbformat": 4,
 "nbformat_minor": 1
}
