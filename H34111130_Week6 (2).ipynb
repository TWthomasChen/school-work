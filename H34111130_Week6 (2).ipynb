{
  "nbformat": 4,
  "nbformat_minor": 0,
  "metadata": {
    "colab": {
      "provenance": [],
      "collapsed_sections": []
    },
    "kernelspec": {
      "name": "python3",
      "display_name": "Python 3"
    },
    "language_info": {
      "name": "python"
    }
  },
  "cells": [
    {
      "cell_type": "code",
      "execution_count": null,
      "metadata": {
        "id": "Iap2nw4kozTv",
        "colab": {
          "base_uri": "https://localhost:8080/"
        },
        "outputId": "d4261ffc-341d-4163-da5d-484d21cd0fc7"
      },
      "outputs": [
        {
          "output_type": "stream",
          "name": "stdout",
          "text": [
            "Writing 1.cpp\n"
          ]
        }
      ],
      "source": [
        "%%writefile 1.cpp\n",
        "#include <iostream>\n",
        "using namespace std;\n",
        "int main(){\n",
        "  int Integer;\n",
        "  cout << \"Please input a positive integer \";\n",
        "  cin >> Integer;\n",
        "  for(int i=2;i!=Integer;i++){\n",
        "    if(Integer % i ==0){\n",
        "      cout << i <<\" \";\n",
        "    }\n",
        "  }\n",
        "}"
      ]
    },
    {
      "cell_type": "code",
      "source": [
        "%%shell\n",
        "g++ 1.cpp -o hw1;\n",
        "./hw1"
      ],
      "metadata": {
        "colab": {
          "base_uri": "https://localhost:8080/"
        },
        "id": "fe9DKBehrG43",
        "outputId": "b4d1a50f-7a55-4d8e-d15e-6ecf31f0dfa7"
      },
      "execution_count": null,
      "outputs": [
        {
          "output_type": "stream",
          "name": "stdout",
          "text": [
            "Please input a positive integer 100\n",
            "2 4 5 10 20 25 50 "
          ]
        },
        {
          "output_type": "execute_result",
          "data": {
            "text/plain": []
          },
          "metadata": {},
          "execution_count": 17
        }
      ]
    },
    {
      "cell_type": "markdown",
      "source": [
        "Q2_第一種寫法"
      ],
      "metadata": {
        "id": "hFfkyjBTNEcb"
      }
    },
    {
      "cell_type": "code",
      "source": [
        "%%writefile 2.cpp\n",
        "#include <iostream>\n",
        "using namespace std;\n",
        "int main(){\n",
        "  char Letter;\n",
        "  cout << \"Please input a alphabet \";\n",
        "  cin >> Letter;\n",
        "  if(static_cast<int>(Letter)<=90){\n",
        "    cout << \"After converting: \" << static_cast<char>((static_cast<int>(Letter)+32));\n",
        " \n",
        "  }\n",
        "  else{\n",
        "    cout << \"After converting: \" << static_cast<char>((static_cast<int>(Letter)-32));\n",
        "\n",
        "  }\n",
        "}\n"
      ],
      "metadata": {
        "colab": {
          "base_uri": "https://localhost:8080/"
        },
        "id": "YfKgO3pwsc84",
        "outputId": "01461e14-9291-4df9-85d0-19f1c0318ce3"
      },
      "execution_count": null,
      "outputs": [
        {
          "output_type": "stream",
          "name": "stdout",
          "text": [
            "Overwriting 2.cpp\n"
          ]
        }
      ]
    },
    {
      "cell_type": "markdown",
      "source": [
        "Q2_第二種寫法"
      ],
      "metadata": {
        "id": "KowInIU8NJf7"
      }
    },
    {
      "cell_type": "code",
      "source": [
        "%%writefile 2.cpp\n",
        "#include <iostream>\n",
        "using namespace std;\n",
        "int main(){\n",
        "  char Letter;\n",
        "  cout << \"Please input a alphabet \";\n",
        "  cin >> Letter;\n",
        "  if(static_cast<int>(Letter)<=90){\n",
        "    Letter = int(Letter)+32;\n",
        "    cout << \"After converting: \" << Letter ;\n",
        " \n",
        "  }\n",
        "  else{\n",
        "    Letter = int(Letter)-32;\n",
        "    cout << \"After converting: \" << Letter ;\n",
        "  }\n",
        "}"
      ],
      "metadata": {
        "id": "TtC7Zb1fwB4f",
        "colab": {
          "base_uri": "https://localhost:8080/"
        },
        "outputId": "980df4f0-0ee9-42a8-8bb2-546ce5bbf20d"
      },
      "execution_count": null,
      "outputs": [
        {
          "output_type": "stream",
          "name": "stdout",
          "text": [
            "Overwriting 2.cpp\n"
          ]
        }
      ]
    },
    {
      "cell_type": "code",
      "source": [
        "%%shell\n",
        "g++ 2.cpp -o hw2;\n",
        "./hw2"
      ],
      "metadata": {
        "colab": {
          "base_uri": "https://localhost:8080/"
        },
        "id": "Sd0hJShOwB--",
        "outputId": "5163c985-908a-4ba4-9140-0388575be62c"
      },
      "execution_count": null,
      "outputs": [
        {
          "output_type": "stream",
          "name": "stdout",
          "text": [
            "Please input a alphabet K\n",
            "After converting: k"
          ]
        },
        {
          "output_type": "execute_result",
          "data": {
            "text/plain": []
          },
          "metadata": {},
          "execution_count": 16
        }
      ]
    },
    {
      "cell_type": "markdown",
      "source": [
        "希望助教課時能請助教提點一下哪種寫法會比較好　謝謝\n",
        "\n",
        "\n"
      ],
      "metadata": {
        "id": "s6kSdQOJNZP7"
      }
    },
    {
      "cell_type": "code",
      "source": [],
      "metadata": {
        "id": "FVswiuwONjYO"
      },
      "execution_count": null,
      "outputs": []
    }
  ]
}