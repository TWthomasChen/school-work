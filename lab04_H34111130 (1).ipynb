{
 "cells": [
  {
   "cell_type": "markdown",
   "id": "aced2aa5",
   "metadata": {},
   "source": [
    "### 上傳前，請確認已將檔名後面 XXXXXXXXX 的部分更改為自己的學號，英文部分大寫。未更改檔名者該次實作成績扣 $20$ 分"
   ]
  },
  {
   "cell_type": "markdown",
   "id": "0a3fbcb9",
   "metadata": {},
   "source": [
    "<h3>題目一</h3>\n",
    "\n",
    "假設有容量不同的箱子各一和大小不同的物品，當使用者指定特定箱子、欲放入物品種類和數量時，你必須判斷這些物品能否全數放入該種類箱子，並在螢幕輸出是否可行。以下為所需資訊和輸入、輸出範例：\n",
    "\n",
    "<h4><center>物品資訊</center></h4>\n",
    "<table>\n",
    "    <tr>\n",
    "        <td width = 80> 物品種類\n",
    "        <td width = 150> 物品體積\n",
    "    <tr>\n",
    "        <td>1\n",
    "        <td>4\n",
    "    <tr>\n",
    "        <td>2\n",
    "        <td>6\n",
    "    <tr>\n",
    "        <td>3\n",
    "        <td>2\n",
    "    <tr>\n",
    "        <td>4\n",
    "        <td>8\n",
    "    <tr>\n",
    "        <td>5\n",
    "        <td>1\n",
    "</table>\n",
    "            \n",
    "\n",
    "<h4><center>箱子資訊</center></h4> \n",
    "<table style=\"font:11px\">\n",
    "    <tr>\n",
    "        <td width = 80> 箱子種類\n",
    "        <td width = 150> 箱子容量\n",
    "    <tr>\n",
    "        <td>1\n",
    "        <td>23\n",
    "    <tr>\n",
    "        <td>2\n",
    "        <td>18\n",
    "    <tr>\n",
    "        <td>3\n",
    "        <td>30\n",
    "</table>\n",
    "\n",
    "\n",
    "<i>範例一</i>\n",
    "            \n",
    "<b>輸入部分</b>\n",
    "<pre>\n",
    "請輸入箱子種類(1~3): 3\n",
    "請輸入欲放入物品種類數(1~5): 3\n",
    "請輸入欲放入物品種類 1 和物品數量: 1 3\n",
    "請輸入欲放入物品種類 2 和物品數量: 3 1\n",
    "請輸入欲放入物品種類 3 和物品數量: 4 2\n",
    "</pre>\n",
    "\n",
    "<b>輸出部分</b>\n",
    "<pre>\n",
    "物品總體積為 30\n",
    "可以放入箱子3\n",
    "</pre>      \n",
    "\n",
    "<i>範例二</i><br>\n",
    "            \n",
    "<b>輸入部分</b>\n",
    "<pre>\n",
    "請輸入箱子種類(1~3): 1\n",
    "請輸入欲放入物品種類數(1~5): 2\n",
    "請輸入欲放入物品種類 1 和物品數量: 2 3\n",
    "請輸入欲放入物品種類 2 和物品數量: 4 2\n",
    "</pre>\n",
    "\n",
    "<b>輸出部分</b>\n",
    "<pre>\n",
    "物品總體積為 34\n",
    "不可以放入箱子1\n",
    "</pre> "
   ]
  },
  {
   "cell_type": "code",
   "execution_count": 52,
   "id": "fd51d0b4",
   "metadata": {},
   "outputs": [
    {
     "name": "stdout",
     "output_type": "stream",
     "text": [
      "請輸入箱子種類(1~3): 3\n",
      "請輸入欲放入物品種類數(1~5): 3\n",
      "請輸入欲放入物品種類 1 和物品數量 1 3\n",
      "請輸入欲放入物品種類 2 和物品數量 3 1\n",
      "請輸入欲放入物品種類 3 和物品數量 4 2\n",
      "物品總體積為 30\n",
      "可以放入箱子 3\n"
     ]
    }
   ],
   "source": [
    "box=[0,23,18,30]\n",
    "\n",
    "item=[0,4,6,2,8,1]\n",
    "\n",
    "box_type= int(input(\"請輸入箱子種類(1~3): \"))\n",
    "box_volume = box[box_type]\n",
    "item_volume = 0\n",
    "i= int(input(\"請輸入欲放入物品種類數(1~5): \"))\n",
    "for x in range(i):\n",
    "   \n",
    "    item_type,time =input(\"請輸入欲放入物品種類 \"+str(x+1)+\" 和物品數量 \").split()\n",
    "    item_volume = item_volume + (item[int(item_type)]*int(time))\n",
    "print(\"物品總體積為\",item_volume)\n",
    "if (box_volume >= item_volume):\n",
    "    print(\"可以放入箱子\",box_type)\n",
    "else:\n",
    "    print(\"不可以放入箱子\",box_type)\n",
    "    "
   ]
  },
  {
   "cell_type": "markdown",
   "id": "0b3119c4",
   "metadata": {},
   "source": [
    "<h3>題目二</h3>\n",
    "\n",
    "當使用者輸入一個大於2的奇數，印出以 * 作為邊界並以此奇數做為行數的菱形。以下為輸入、輸出範例：\n",
    "\n",
    "<i>範例一</i>\n",
    "            \n",
    "<b>輸入部分</b>\n",
    "<pre>\n",
    "請輸入奇數(>2): 3\n",
    "</pre>\n",
    "\n",
    "<b>輸出部分</b>\n",
    "<pre>\n",
    " * \n",
    "* *\n",
    " * \n",
    "</pre>      \n",
    "\n",
    "<i>範例二</i><br>\n",
    "            \n",
    "<b>輸入部分</b>\n",
    "<pre>\n",
    "請輸入奇數(>2): 7\n",
    "</pre>\n",
    "\n",
    "<b>輸出部分</b>\n",
    "<pre>\n",
    "   *   \n",
    "  * *  \n",
    " *   * \n",
    "*     *\n",
    " *   *\n",
    "  * *\n",
    "   *\n",
    "</pre> "
   ]
  },
  {
   "cell_type": "code",
   "execution_count": 40,
   "id": "03687185",
   "metadata": {},
   "outputs": [
    {
     "name": "stdout",
     "output_type": "stream",
     "text": [
      "請輸入奇數(>2):9\n",
      "    *\n",
      "   * *\n",
      "  *   *\n",
      " *     *\n",
      "*       *\n",
      " *     *\n",
      "  *   *\n",
      "   * *\n",
      "    *\n"
     ]
    }
   ],
   "source": [
    "n = int(input(\"請輸入奇數(>2):\"))\n",
    "p = -((n-2)//2)\n",
    "for colume in range(n//2,-(n//2)-1,-1):\n",
    "    if (colume==n//2 or colume == -(n//2)):\n",
    "        print(\" \"*abs(colume)+\"*\")\n",
    "    else:\n",
    "        print(\" \"*abs(colume)+\"*\"+\" \"*((n-2)-abs(p)*2)+\"*\")\n",
    "        p= p+1"
   ]
  },
  {
   "cell_type": "code",
   "execution_count": 28,
   "id": "97e66869",
   "metadata": {},
   "outputs": [
    {
     "name": "stdout",
     "output_type": "stream",
     "text": [
      "1.5\n"
     ]
    }
   ],
   "source": []
  },
  {
   "cell_type": "code",
   "execution_count": null,
   "id": "76d787ce",
   "metadata": {},
   "outputs": [],
   "source": []
  }
 ],
 "metadata": {
  "kernelspec": {
   "display_name": "Python 3 (ipykernel)",
   "language": "python",
   "name": "python3"
  },
  "language_info": {
   "codemirror_mode": {
    "name": "ipython",
    "version": 3
   },
   "file_extension": ".py",
   "mimetype": "text/x-python",
   "name": "python",
   "nbconvert_exporter": "python",
   "pygments_lexer": "ipython3",
   "version": "3.9.12"
  }
 },
 "nbformat": 4,
 "nbformat_minor": 5
}
