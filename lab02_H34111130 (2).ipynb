{
 "cells": [
  {
   "cell_type": "markdown",
   "metadata": {},
   "source": [
    "### 上傳前，請確認已將檔名後面 XXXXXXXXX 的部分更改為自己的學號，英文部分大寫。未更改檔名者該次實作成績扣 $20$ 分"
   ]
  },
  {
   "cell_type": "markdown",
   "metadata": {},
   "source": [
    "1. 讓使用者輸入兩個任意整數 $\\rm{a、b}$，若兩者中有一者以上為 $\\rm{7}$，或是兩者的和為 $\\rm{7}$ 的倍數，則在螢幕輸出「找到所需的數字組合!」；否則輸出「並非所需的數字組合!」"
   ]
  },
  {
   "cell_type": "code",
   "execution_count": 14,
   "metadata": {},
   "outputs": [
    {
     "name": "stdout",
     "output_type": "stream",
     "text": [
      "輸入a 1\n",
      "輸入b 2\n",
      "並非所需的數字組合!\n"
     ]
    }
   ],
   "source": [
    "a = int(input(\"輸入a \"))\n",
    "b = int(input(\"輸入b \"))\n",
    "if (a == 7 or b == 7 or (a+b) % 7 == 0):\n",
    "    print(\"找到所需的數字組合!\")\n",
    "else:\n",
    "    print(\"並非所需的數字組合!\")\n"
   ]
  },
  {
   "cell_type": "code",
   "execution_count": null,
   "metadata": {},
   "outputs": [],
   "source": [
    "2. 讓使用者輸入一個任意整數，若這個數在 $\\rm{10}$ 倍數的 $\\rm{\\pm 2}$ 之間，則在螢幕輸出「可接受」；否則輸出「不可接受」。例如，78 為可接受，65 為不可接受。"
   ]
  },
  {
   "cell_type": "code",
   "execution_count": null,
   "metadata": {},
   "outputs": [],
   "source": [
    "num = int(input(\"輸入一個任意整數\"))\n",
    "if ( 0 <= num%10 <= 2 or num%10 >= 8):\n",
    "    print(\"可接受\")\n",
    "else:\n",
    "    print(\"不可接受\")\n",
    "    "
   ]
  },
  {
   "cell_type": "markdown",
   "metadata": {},
   "source": [
    "3. 讓使用者輸入三個任意整數 $\\rm{a、b、c}$。如果 $\\rm{b}$ 和 $\\rm{c}$ 與 $\\rm{a}$ 的差距 (亦即，$\\rm{b}$ 和 $\\rm{a}$ 比，$\\rm{c}$ 也和 $\\rm{a}$ 比) 分別為 $1$ 大(超過 $\\rm{2}$) $1$ 小($\\rm{0\\sim 2}$)，則輸出「檢驗通過」；否則輸出「檢驗失敗」。例如，若 $\\rm{a=4,b=1,c=3}$，會輸出檢驗通過，而 $\\rm{a=1,b=2,c=3}$ 則會輸出檢驗失敗。提示：我們可以使用 $\\rm{abs()}$ 來得到某值的絕對值。例如，$\\rm{abs(-6)=6}$、$\\rm{abs(3-5)=2}$ 等等。"
   ]
  },
  {
   "cell_type": "code",
   "execution_count": 15,
   "metadata": {},
   "outputs": [
    {
     "ename": "KeyboardInterrupt",
     "evalue": "Interrupted by user",
     "output_type": "error",
     "traceback": [
      "\u001b[1;31m---------------------------------------------------------------------------\u001b[0m",
      "\u001b[1;31mKeyboardInterrupt\u001b[0m                         Traceback (most recent call last)",
      "Input \u001b[1;32mIn [15]\u001b[0m, in \u001b[0;36m<cell line: 1>\u001b[1;34m()\u001b[0m\n\u001b[1;32m----> 1\u001b[0m a \u001b[38;5;241m=\u001b[39m \u001b[38;5;28;43minput\u001b[39;49m\u001b[43m(\u001b[49m\u001b[38;5;124;43m\"\u001b[39;49m\u001b[38;5;124;43m輸入a \u001b[39;49m\u001b[38;5;124;43m\"\u001b[39;49m\u001b[43m)\u001b[49m\n\u001b[0;32m      2\u001b[0m b \u001b[38;5;241m=\u001b[39m \u001b[38;5;28minput\u001b[39m(\u001b[38;5;124m\"\u001b[39m\u001b[38;5;124m輸入b \u001b[39m\u001b[38;5;124m\"\u001b[39m)\n\u001b[0;32m      3\u001b[0m c \u001b[38;5;241m=\u001b[39m \u001b[38;5;28minput\u001b[39m(\u001b[38;5;124m\"\u001b[39m\u001b[38;5;124m輸入c \u001b[39m\u001b[38;5;124m\"\u001b[39m)\n",
      "File \u001b[1;32mC:\\anaconda\\lib\\site-packages\\ipykernel\\kernelbase.py:1075\u001b[0m, in \u001b[0;36mKernel.raw_input\u001b[1;34m(self, prompt)\u001b[0m\n\u001b[0;32m   1071\u001b[0m \u001b[38;5;28;01mif\u001b[39;00m \u001b[38;5;129;01mnot\u001b[39;00m \u001b[38;5;28mself\u001b[39m\u001b[38;5;241m.\u001b[39m_allow_stdin:\n\u001b[0;32m   1072\u001b[0m     \u001b[38;5;28;01mraise\u001b[39;00m StdinNotImplementedError(\n\u001b[0;32m   1073\u001b[0m         \u001b[38;5;124m\"\u001b[39m\u001b[38;5;124mraw_input was called, but this frontend does not support input requests.\u001b[39m\u001b[38;5;124m\"\u001b[39m\n\u001b[0;32m   1074\u001b[0m     )\n\u001b[1;32m-> 1075\u001b[0m \u001b[38;5;28;01mreturn\u001b[39;00m \u001b[38;5;28;43mself\u001b[39;49m\u001b[38;5;241;43m.\u001b[39;49m\u001b[43m_input_request\u001b[49m\u001b[43m(\u001b[49m\n\u001b[0;32m   1076\u001b[0m \u001b[43m    \u001b[49m\u001b[38;5;28;43mstr\u001b[39;49m\u001b[43m(\u001b[49m\u001b[43mprompt\u001b[49m\u001b[43m)\u001b[49m\u001b[43m,\u001b[49m\n\u001b[0;32m   1077\u001b[0m \u001b[43m    \u001b[49m\u001b[38;5;28;43mself\u001b[39;49m\u001b[38;5;241;43m.\u001b[39;49m\u001b[43m_parent_ident\u001b[49m\u001b[43m[\u001b[49m\u001b[38;5;124;43m\"\u001b[39;49m\u001b[38;5;124;43mshell\u001b[39;49m\u001b[38;5;124;43m\"\u001b[39;49m\u001b[43m]\u001b[49m\u001b[43m,\u001b[49m\n\u001b[0;32m   1078\u001b[0m \u001b[43m    \u001b[49m\u001b[38;5;28;43mself\u001b[39;49m\u001b[38;5;241;43m.\u001b[39;49m\u001b[43mget_parent\u001b[49m\u001b[43m(\u001b[49m\u001b[38;5;124;43m\"\u001b[39;49m\u001b[38;5;124;43mshell\u001b[39;49m\u001b[38;5;124;43m\"\u001b[39;49m\u001b[43m)\u001b[49m\u001b[43m,\u001b[49m\n\u001b[0;32m   1079\u001b[0m \u001b[43m    \u001b[49m\u001b[43mpassword\u001b[49m\u001b[38;5;241;43m=\u001b[39;49m\u001b[38;5;28;43;01mFalse\u001b[39;49;00m\u001b[43m,\u001b[49m\n\u001b[0;32m   1080\u001b[0m \u001b[43m\u001b[49m\u001b[43m)\u001b[49m\n",
      "File \u001b[1;32mC:\\anaconda\\lib\\site-packages\\ipykernel\\kernelbase.py:1120\u001b[0m, in \u001b[0;36mKernel._input_request\u001b[1;34m(self, prompt, ident, parent, password)\u001b[0m\n\u001b[0;32m   1117\u001b[0m             \u001b[38;5;28;01mbreak\u001b[39;00m\n\u001b[0;32m   1118\u001b[0m \u001b[38;5;28;01mexcept\u001b[39;00m \u001b[38;5;167;01mKeyboardInterrupt\u001b[39;00m:\n\u001b[0;32m   1119\u001b[0m     \u001b[38;5;66;03m# re-raise KeyboardInterrupt, to truncate traceback\u001b[39;00m\n\u001b[1;32m-> 1120\u001b[0m     \u001b[38;5;28;01mraise\u001b[39;00m \u001b[38;5;167;01mKeyboardInterrupt\u001b[39;00m(\u001b[38;5;124m\"\u001b[39m\u001b[38;5;124mInterrupted by user\u001b[39m\u001b[38;5;124m\"\u001b[39m) \u001b[38;5;28;01mfrom\u001b[39;00m \u001b[38;5;28mNone\u001b[39m\n\u001b[0;32m   1121\u001b[0m \u001b[38;5;28;01mexcept\u001b[39;00m \u001b[38;5;167;01mException\u001b[39;00m:\n\u001b[0;32m   1122\u001b[0m     \u001b[38;5;28mself\u001b[39m\u001b[38;5;241m.\u001b[39mlog\u001b[38;5;241m.\u001b[39mwarning(\u001b[38;5;124m\"\u001b[39m\u001b[38;5;124mInvalid Message:\u001b[39m\u001b[38;5;124m\"\u001b[39m, exc_info\u001b[38;5;241m=\u001b[39m\u001b[38;5;28;01mTrue\u001b[39;00m)\n",
      "\u001b[1;31mKeyboardInterrupt\u001b[0m: Interrupted by user"
     ]
    }
   ],
   "source": [
    "a = int(input(\"輸入a \"))\n",
    "b = int(input(\"輸入b \"))\n",
    "c = int(input(\"輸入c \"))\n",
    "Big = 0\n",
    "Small = 0 \n",
    "if( 0 <= abs(a-b) <= 2 ):\n",
    "    Big = Big+1\n",
    "else:\n",
    "    Small= Small+1\n",
    "if( 0 <= abs(a-c) <= 2 ):\n",
    "    Big = Big+1\n",
    "else:\n",
    "    Small= Small+1\n",
    "if (Big ==1 and Small==1):\n",
    "    print(\"檢驗通過\")\n",
    "else:\n",
    "    print(\"檢驗失敗\")\n"
   ]
  },
  {
   "cell_type": "markdown",
   "metadata": {},
   "source": [
    "4. 讓使用者依序輸入三角形的三邊長 (假設使用者會理性輸入正整數)。若可以構成三角形，則輸出「可以構成三角形!」與該三角形的型態，否則輸出「無法構成三角形!」。本題不需考慮等腰直角三角形。以下是幾個輸出範例：\n",
    "<br><br>\n",
    "  \n",
    "範例一：\n",
    "  \n",
    "        輸入邊長 a: 7\n",
    "        輸入邊長 b: 3\n",
    "        輸入邊長 c: 9\n",
    "        \n",
    "        可以構成三角形!\n",
    "        這是一個普通三角形\n",
    "<br>\n",
    "範例二：\n",
    "\n",
    "        輸入邊長 a: 5\n",
    "        輸入邊長 b: 5\n",
    "        輸入邊長 c: 5\n",
    "        \n",
    "        可以構成三角形!\n",
    "        這是一個正三角形\n",
    "        這是一個等腰三角形\n",
    "<br>\n",
    "範例三：\n",
    "  \n",
    "        輸入邊長 a: 12\n",
    "        輸入邊長 b: 5\n",
    "        輸入邊長 c: 13\n",
    "        \n",
    "        可以構成三角形!\n",
    "        這是一個直角三角形\n",
    "<br>\n",
    "範例四：\n",
    "  \n",
    "        輸入邊長 a: 3\n",
    "        輸入邊長 b: 5\n",
    "        輸入邊長 c: 9\n",
    "        \n",
    "        無法構成三角形!"
   ]
  },
  {
   "cell_type": "code",
   "execution_count": 29,
   "metadata": {},
   "outputs": [
    {
     "name": "stdout",
     "output_type": "stream",
     "text": [
      "輸入邊長 a 5\n",
      "輸入邊長 b 12\n",
      "輸入邊長 c 13\n",
      "可以構成三角形!\n",
      "這是一個直角三角形\n"
     ]
    }
   ],
   "source": [
    "a = int(input(\"輸入邊長 a \"))\n",
    "b = int(input(\"輸入邊長 b \"))\n",
    "c = int(input(\"輸入邊長 c \"))\n",
    "if ((a+b) > c and (b+c) > a and (a+c) > b):\n",
    "    print(\"可以構成三角形!\")\n",
    "    if (a == b == c ):\n",
    "        print(\"這是一個正三角形\")\n",
    "        print(\"這是一個等腰三角形\")\n",
    "    elif((a**2 + b**2 == c**2) or (b**2 + c**2 == a**2) or (a**2 + c**2 == b**2) ):\n",
    "        print(\"這是一個直角三角形\")\n",
    "    elif( (a == b and a != c ) or (a == c and a != b ) or (b == c and b != a ) ):\n",
    "        print(\"這是一個等腰三角形\")\n",
    "    else:\n",
    "        print(\"這是一個普通三角形\")\n",
    "else:\n",
    "    print( \"無法構成三角形!\")"
   ]
  },
  {
   "cell_type": "code",
   "execution_count": null,
   "metadata": {},
   "outputs": [],
   "source": []
  }
 ],
 "metadata": {
  "kernelspec": {
   "display_name": "Python 3 (ipykernel)",
   "language": "python",
   "name": "python3"
  },
  "language_info": {
   "codemirror_mode": {
    "name": "ipython",
    "version": 3
   },
   "file_extension": ".py",
   "mimetype": "text/x-python",
   "name": "python",
   "nbconvert_exporter": "python",
   "pygments_lexer": "ipython3",
   "version": "3.9.12"
  },
  "toc": {
   "base_numbering": 1,
   "nav_menu": {},
   "number_sections": true,
   "sideBar": true,
   "skip_h1_title": false,
   "title_cell": "Table of Contents",
   "title_sidebar": "Contents",
   "toc_cell": false,
   "toc_position": {},
   "toc_section_display": true,
   "toc_window_display": false
  }
 },
 "nbformat": 4,
 "nbformat_minor": 4
}
