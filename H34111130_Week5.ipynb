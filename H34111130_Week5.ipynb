{
  "nbformat": 4,
  "nbformat_minor": 0,
  "metadata": {
    "colab": {
      "provenance": []
    },
    "kernelspec": {
      "name": "python3",
      "display_name": "Python 3"
    },
    "language_info": {
      "name": "python"
    }
  },
  "cells": [
    {
      "cell_type": "markdown",
      "source": [
        "Q1"
      ],
      "metadata": {
        "id": "u54wYrCe8XN8"
      }
    },
    {
      "cell_type": "code",
      "execution_count": 97,
      "metadata": {
        "colab": {
          "base_uri": "https://localhost:8080/"
        },
        "id": "feWKh2AHuymQ",
        "outputId": "aa2e85b8-319e-46ef-fe3c-43f3e84206c3"
      },
      "outputs": [
        {
          "output_type": "stream",
          "name": "stdout",
          "text": [
            "Overwriting H34111130_Week5.cpp\n"
          ]
        }
      ],
      "source": [
        "%%writefile H34111130_Week5.cpp\n",
        "\n",
        "#include <iostream>\n",
        "using namespace std;\n",
        "int main(){\n",
        "  int Height;\n",
        "  int i ;\n",
        "  int j ;\n",
        "  \n",
        "  cout << \"Please input the height of your pyramid \";\n",
        "  cin >> Height;\n",
        "//用i和j兩個變數，i代表層數,每次for迴圈開始時把j歸零，並用j<i和j++去重複印出該層需要的x數量\n",
        "  for ( i=1 ;i <= Height ;i++)\n",
        "  {\n",
        "    cout << endl; \n",
        "    j=0;\n",
        "    while(j<i){\n",
        "      cout << \"x\" ;\n",
        "      j = j+1;\n",
        "    }\n",
        "  }\n",
        "}\n"
      ]
    },
    {
      "cell_type": "code",
      "source": [
        "%%shell\n",
        "g++ H34111130_Week5.cpp -o hw1;\n",
        "./hw1"
      ],
      "metadata": {
        "colab": {
          "base_uri": "https://localhost:8080/"
        },
        "id": "-A3tQrVNx2Fs",
        "outputId": "50576c19-45ab-4405-99d9-194aee8cfdf3"
      },
      "execution_count": 98,
      "outputs": [
        {
          "output_type": "stream",
          "name": "stdout",
          "text": [
            "Please input the height of your pyramid 10\n",
            "\n",
            "x\n",
            "xx\n",
            "xxx\n",
            "xxxx\n",
            "xxxxx\n",
            "xxxxxx\n",
            "xxxxxxx\n",
            "xxxxxxxx\n",
            "xxxxxxxxx\n",
            "xxxxxxxxxx"
          ]
        },
        {
          "output_type": "execute_result",
          "data": {
            "text/plain": []
          },
          "metadata": {},
          "execution_count": 98
        }
      ]
    },
    {
      "cell_type": "markdown",
      "source": [
        "Q2"
      ],
      "metadata": {
        "id": "bKrvpcyb8WIa"
      }
    },
    {
      "cell_type": "code",
      "source": [
        "%%writefile H34111130_Week5_2.cpp\n",
        "\n",
        "#include <iostream>\n",
        "#include <iomanip>\n",
        "using namespace std;\n",
        "int main(){\n",
        "  int Height;\n",
        "  int i;\n",
        "  int j;\n",
        "  \n",
        "  cout << \"Please input the height of your pyramid \";\n",
        "  cin >> Height;\n",
        "//用i和j兩個變數，i代表層數,每次for迴圈開始時把j歸零，且用<iomanip>的setw()去定位開始的格子，再用j<2i+1(因為是1 3 5 7....)和j++去重複印出該層需要的x數量\n",
        "  for ( i=0 ;i < Height ;i++)\n",
        "  {\n",
        "    j=0;\n",
        "    cout << endl;\n",
        "    cout << setw(Height - i);\n",
        "    while(j<(2*i+1)){\n",
        "      cout << \"x\" ;\n",
        "\n",
        "      j = j+1;\n",
        "    }\n",
        "  }\n",
        "}"
      ],
      "metadata": {
        "colab": {
          "base_uri": "https://localhost:8080/"
        },
        "id": "c-BnQ2oX8uUe",
        "outputId": "36ab4fcc-7868-4b13-9f6b-3a18927166a9"
      },
      "execution_count": 95,
      "outputs": [
        {
          "output_type": "stream",
          "name": "stdout",
          "text": [
            "Overwriting H34111130_Week5_2.cpp\n"
          ]
        }
      ]
    },
    {
      "cell_type": "code",
      "source": [
        "%%shell\n",
        "g++ H34111130_Week5_2.cpp -o hw2;\n",
        "./hw2"
      ],
      "metadata": {
        "colab": {
          "base_uri": "https://localhost:8080/"
        },
        "id": "oEFfHhTk8yNd",
        "outputId": "136a2c06-b703-4731-888d-67443e78b7c5"
      },
      "execution_count": 96,
      "outputs": [
        {
          "output_type": "stream",
          "name": "stdout",
          "text": [
            "Please input the height of your pyramid 10\n",
            "\n",
            "         x\n",
            "        xxx\n",
            "       xxxxx\n",
            "      xxxxxxx\n",
            "     xxxxxxxxx\n",
            "    xxxxxxxxxxx\n",
            "   xxxxxxxxxxxxx\n",
            "  xxxxxxxxxxxxxxx\n",
            " xxxxxxxxxxxxxxxxx\n",
            "xxxxxxxxxxxxxxxxxxx"
          ]
        },
        {
          "output_type": "execute_result",
          "data": {
            "text/plain": []
          },
          "metadata": {},
          "execution_count": 96
        }
      ]
    },
    {
      "cell_type": "markdown",
      "source": [
        "Q3"
      ],
      "metadata": {
        "id": "zYZZda8J-6cj"
      }
    },
    {
      "cell_type": "code",
      "source": [
        "%%writefile H34111130_Week5_3.cpp\n",
        "\n",
        "#include <iostream>\n",
        "#include <iomanip>\n",
        "using namespace std;\n",
        "int main(){\n",
        "  int Height;\n",
        "  int i;\n",
        "  int j;\n",
        "  int k;\n",
        "\n",
        "  cout << \"Please input the height of your pyramid \";\n",
        "  cin >> Height;\n",
        "  k=Height;\n",
        "//用i和j兩個變數，i代表層數,每次for迴圈開始時把j歸零，且用<iomanip>的setw()去定位開始的格子，\n",
        "//多定義出一個k是用來固定輸入進來的Height值，因為要把Height*2-1當作每一行的x數量,又不能影響到for裡面原本的Height的值。\n",
        "//再用j<2k-1(比如輸入10 從19開始)再用j++去重複印出該層需要的x數量，離開while後再將k--以確保下一行是17。\n",
        "  for ( i=0 ;i < Height ;i++)\n",
        "  {\n",
        "    j=0;\n",
        "    cout << endl;\n",
        "    cout << setw(i+1);\n",
        "    while(j<(2*k-1)){\n",
        "      cout << \"x\" ;\n",
        "      j = j+1 ;\n",
        "    }\n",
        "    k=k-1;\n",
        "  }\n",
        "}"
      ],
      "metadata": {
        "colab": {
          "base_uri": "https://localhost:8080/"
        },
        "id": "7SAgcYXd-5fF",
        "outputId": "5bd48c12-2a82-459e-8695-cc8fbc7eddb2"
      },
      "execution_count": 92,
      "outputs": [
        {
          "output_type": "stream",
          "name": "stdout",
          "text": [
            "Overwriting H34111130_Week5_3.cpp\n"
          ]
        }
      ]
    },
    {
      "cell_type": "code",
      "source": [
        "%%shell\n",
        "g++ H34111130_Week5_3.cpp -o hw3;\n",
        "./hw3"
      ],
      "metadata": {
        "colab": {
          "base_uri": "https://localhost:8080/"
        },
        "id": "qFNs6Au2-_Qy",
        "outputId": "13d6b9b9-a97b-4cd3-e1bf-120d58dccff1"
      },
      "execution_count": 94,
      "outputs": [
        {
          "output_type": "stream",
          "name": "stdout",
          "text": [
            "Please input the height of your pyramid 10\n",
            "\n",
            "xxxxxxxxxxxxxxxxxxx\n",
            " xxxxxxxxxxxxxxxxx\n",
            "  xxxxxxxxxxxxxxx\n",
            "   xxxxxxxxxxxxx\n",
            "    xxxxxxxxxxx\n",
            "     xxxxxxxxx\n",
            "      xxxxxxx\n",
            "       xxxxx\n",
            "        xxx\n",
            "         x"
          ]
        },
        {
          "output_type": "execute_result",
          "data": {
            "text/plain": []
          },
          "metadata": {},
          "execution_count": 94
        }
      ]
    }
  ]
}