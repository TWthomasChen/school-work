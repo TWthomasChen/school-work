{
 "cells": [
  {
   "cell_type": "markdown",
   "metadata": {},
   "source": [
    "### 上傳前，請確認已將檔名後面 XXXXXXXXX 的部分更改為自己的學號，英文部分大寫。未更改檔名者該次實作成績扣 $20$ 分"
   ]
  },
  {
   "cell_type": "markdown",
   "metadata": {},
   "source": [
    "考慮以下的單字串列，完成下列要求事項：\n",
    "1. 印出含有「$\\rm{end}$」的單字與其總數\n",
    "2. 印出含有「$\\rm{ro}$」的單字與其總數\n",
    "3. 印出以「$\\rm{cro}$」開頭的單字與其總數\n",
    "4. 印出以「$\\rm{sis}$」結尾的單字與其總數\n",
    "<br><br>\n",
    "  \n",
    "注意：\n",
    "1. 本題禁用字串方法\n",
    "2. 輸出時請$\\color{orange}{表達出完整的意思}$，如「含有 $\\rm{ro}$ 的單字有 $\\rm{xxx}$, $\\rm{xxx}$, ..., 其總數為 $\\rm{xxx}$」，只輸出一個數字不予計分"
   ]
  },
  {
   "cell_type": "code",
   "execution_count": 2,
   "metadata": {},
   "outputs": [],
   "source": [
    "words = ['vitellogenesis', 'lendable', 'epinephrin', 'crookedest', 'endoderm',\n",
    "         'endogamy', 'pendular', 'onchocerciasis', 'ascender', 'crisscrosses',\n",
    "         'understeering', 'exstrophies', 'electrodermal', 'crisscrossed',\n",
    "         'perpendicular', 'diverticulosis', 'transgendered', 'endotrophic',\n",
    "         'splendiferous', 'pertussis', 'crocheting', 'nephrotics', 'thundershower',\n",
    "         'nepotistic', 'endpaper', 'underclothing', 'cinephiles', 'kolbassis',\n",
    "         'crookbacks', 'endocrinology', 'swinepoxes', 'supercollider', 'tropologies',\n",
    "         'epistrophes', 'metempsychosis', 'crocodiles', 'tenderhearted', 'crookeries',\n",
    "         'plasmapheresis', 'foxtrotting', 'microfilming', 'endometriosis',\n",
    "         'condescending', 'derealization', 'chylomicrons', 'pronephric', 'gastronomes',\n",
    "         'understrapper', 'echinococcosis']"
   ]
  },
  {
   "cell_type": "code",
   "execution_count": 42,
   "metadata": {},
   "outputs": [
    {
     "name": "stdout",
     "output_type": "stream",
     "text": [
      "含有 end 的單字有 ['lendable', 'endoderm', 'endogamy', 'pendular', 'ascender', 'perpendicular', 'transgendered', 'endotrophic', 'splendiferous', 'endpaper', 'endocrinology', 'tenderhearted', 'endometriosis', 'condescending']\n",
      "其總數為 14\n"
     ]
    }
   ],
   "source": [
    "counter = 0\n",
    "words = ['vitellogenesis', 'lendable', 'epinephrin', 'crookedest', 'endoderm',\n",
    "         'endogamy', 'pendular', 'onchocerciasis', 'ascender', 'crisscrosses',\n",
    "         'understeering', 'exstrophies', 'electrodermal', 'crisscrossed',\n",
    "         'perpendicular', 'diverticulosis', 'transgendered', 'endotrophic',\n",
    "         'splendiferous', 'pertussis', 'crocheting', 'nephrotics', 'thundershower',\n",
    "         'nepotistic', 'endpaper', 'underclothing', 'cinephiles', 'kolbassis',\n",
    "         'crookbacks', 'endocrinology', 'swinepoxes', 'supercollider', 'tropologies',\n",
    "         'epistrophes', 'metempsychosis', 'crocodiles', 'tenderhearted', 'crookeries',\n",
    "         'plasmapheresis', 'foxtrotting', 'microfilming', 'endometriosis',\n",
    "         'condescending', 'derealization', 'chylomicrons', 'pronephric', 'gastronomes',\n",
    "         'understrapper', 'echinococcosis']\n",
    "words_4 = []\n",
    "for x in range(len(words)):\n",
    "    if \"end\" in words[x]:\n",
    "        counter += 1\n",
    "        words_4.append(words[x])\n",
    "print(\"含有 end 的單字有\",words_4)\n",
    "print(\"其總數為\",counter)"
   ]
  },
  {
   "cell_type": "code",
   "execution_count": 43,
   "metadata": {},
   "outputs": [
    {
     "name": "stdout",
     "output_type": "stream",
     "text": [
      "含有 ro 的單字有 ['crookedest', 'crisscrosses', 'exstrophies', 'electrodermal', 'crisscrossed', 'endotrophic', 'splendiferous', 'crocheting', 'nephrotics', 'crookbacks', 'tropologies', 'epistrophes', 'crocodiles', 'crookeries', 'foxtrotting', 'microfilming', 'chylomicrons', 'pronephric', 'gastronomes']\n",
      "其總數為 19\n"
     ]
    }
   ],
   "source": [
    "words = ['vitellogenesis', 'lendable', 'epinephrin', 'crookedest', 'endoderm',\n",
    "         'endogamy', 'pendular', 'onchocerciasis', 'ascender', 'crisscrosses',\n",
    "         'understeering', 'exstrophies', 'electrodermal', 'crisscrossed',\n",
    "         'perpendicular', 'diverticulosis', 'transgendered', 'endotrophic',\n",
    "         'splendiferous', 'pertussis', 'crocheting', 'nephrotics', 'thundershower',\n",
    "         'nepotistic', 'endpaper', 'underclothing', 'cinephiles', 'kolbassis',\n",
    "         'crookbacks', 'endocrinology', 'swinepoxes', 'supercollider', 'tropologies',\n",
    "         'epistrophes', 'metempsychosis', 'crocodiles', 'tenderhearted', 'crookeries',\n",
    "         'plasmapheresis', 'foxtrotting', 'microfilming', 'endometriosis',\n",
    "         'condescending', 'derealization', 'chylomicrons', 'pronephric', 'gastronomes',\n",
    "         'understrapper', 'echinococcosis']\n",
    "counter = 0\n",
    "words_3 = []\n",
    "for x in range(len(words)):\n",
    "    if \"ro\" in words[x]:\n",
    "        counter += 1\n",
    "        words_3.append(words[x])\n",
    "print(\"含有 ro 的單字有\",words_3)\n",
    "print(\"其總數為\",counter)"
   ]
  },
  {
   "cell_type": "code",
   "execution_count": 44,
   "metadata": {},
   "outputs": [
    {
     "name": "stdout",
     "output_type": "stream",
     "text": [
      "含有 cro 的單字有 ['crookedest', 'crocheting', 'crookbacks', 'crocodiles', 'crookeries']\n",
      "其總數為 5\n"
     ]
    }
   ],
   "source": [
    "words = ['vitellogenesis', 'lendable', 'epinephrin', 'crookedest', 'endoderm',\n",
    "         'endogamy', 'pendular', 'onchocerciasis', 'ascender', 'crisscrosses',\n",
    "         'understeering', 'exstrophies', 'electrodermal', 'crisscrossed',\n",
    "         'perpendicular', 'diverticulosis', 'transgendered', 'endotrophic',\n",
    "         'splendiferous', 'pertussis', 'crocheting', 'nephrotics', 'thundershower',\n",
    "         'nepotistic', 'endpaper', 'underclothing', 'cinephiles', 'kolbassis',\n",
    "         'crookbacks', 'endocrinology', 'swinepoxes', 'supercollider', 'tropologies',\n",
    "         'epistrophes', 'metempsychosis', 'crocodiles', 'tenderhearted', 'crookeries',\n",
    "         'plasmapheresis', 'foxtrotting', 'microfilming', 'endometriosis',\n",
    "         'condescending', 'derealization', 'chylomicrons', 'pronephric', 'gastronomes',\n",
    "         'understrapper', 'echinococcosis']\n",
    "counter = 0\n",
    "words_2 = []\n",
    "for x in range(len(words)):\n",
    "    if \"cro\" in words[x][0:4]:\n",
    "        counter += 1\n",
    "        words_2.append(words[x])\n",
    "print(\"含有 cro 的單字有\",words_2)\n",
    "print(\"其總數為\",counter)"
   ]
  },
  {
   "cell_type": "code",
   "execution_count": 32,
   "metadata": {},
   "outputs": [
    {
     "name": "stdout",
     "output_type": "stream",
     "text": [
      "9\n",
      "['vitellogenesis', 'onchocerciasis', 'diverticulosis', 'pertussis', 'kolbassis', 'metempsychosis', 'plasmapheresis', 'endometriosis', 'echinococcosis', 'vitellogenesis', 'onchocerciasis', 'diverticulosis', 'pertussis', 'kolbassis', 'metempsychosis', 'plasmapheresis', 'endometriosis', 'echinococcosis']\n"
     ]
    }
   ],
   "source": []
  },
  {
   "cell_type": "code",
   "execution_count": 45,
   "metadata": {},
   "outputs": [
    {
     "name": "stdout",
     "output_type": "stream",
     "text": [
      "含有 sis 的單字有 ['vitellogenesis', 'onchocerciasis', 'diverticulosis', 'pertussis', 'kolbassis', 'metempsychosis', 'plasmapheresis', 'endometriosis', 'echinococcosis']\n",
      "其總數為 9\n"
     ]
    }
   ],
   "source": [
    "words = ['vitellogenesis', 'lendable', 'epinephrin', 'crookedest', 'endoderm',\n",
    "         'endogamy', 'pendular', 'onchocerciasis', 'ascender', 'crisscrosses',\n",
    "         'understeering', 'exstrophies', 'electrodermal', 'crisscrossed',\n",
    "         'perpendicular', 'diverticulosis', 'transgendered', 'endotrophic',\n",
    "         'splendiferous', 'pertussis', 'crocheting', 'nephrotics', 'thundershower',\n",
    "         'nepotistic', 'endpaper', 'underclothing', 'cinephiles', 'kolbassis',\n",
    "         'crookbacks', 'endocrinology', 'swinepoxes', 'supercollider', 'tropologies',\n",
    "         'epistrophes', 'metempsychosis', 'crocodiles', 'tenderhearted', 'crookeries',\n",
    "         'plasmapheresis', 'foxtrotting', 'microfilming', 'endometriosis',\n",
    "         'condescending', 'derealization', 'chylomicrons', 'pronephric', 'gastronomes',\n",
    "         'understrapper', 'echinococcosis']\n",
    "counter = 0\n",
    "words_1 = []\n",
    "for x in range(len(words)):\n",
    "    if \"sis\" in words[x][-1:-4:-1]:\n",
    "        counter += 1\n",
    "        words_1.append(words[x])\n",
    "print(\"含有 sis 的單字有\",words_1)\n",
    "print(\"其總數為\",counter)"
   ]
  },
  {
   "cell_type": "code",
   "execution_count": null,
   "metadata": {},
   "outputs": [],
   "source": []
  }
 ],
 "metadata": {
  "kernelspec": {
   "display_name": "Python 3 (ipykernel)",
   "language": "python",
   "name": "python3"
  },
  "language_info": {
   "codemirror_mode": {
    "name": "ipython",
    "version": 3
   },
   "file_extension": ".py",
   "mimetype": "text/x-python",
   "name": "python",
   "nbconvert_exporter": "python",
   "pygments_lexer": "ipython3",
   "version": "3.9.12"
  },
  "toc": {
   "base_numbering": 1,
   "nav_menu": {},
   "number_sections": true,
   "sideBar": true,
   "skip_h1_title": false,
   "title_cell": "Table of Contents",
   "title_sidebar": "Contents",
   "toc_cell": false,
   "toc_position": {},
   "toc_section_display": true,
   "toc_window_display": false
  }
 },
 "nbformat": 4,
 "nbformat_minor": 4
}
