{
  "nbformat": 4,
  "nbformat_minor": 0,
  "metadata": {
    "colab": {
      "provenance": []
    },
    "kernelspec": {
      "name": "python3",
      "display_name": "Python 3"
    },
    "language_info": {
      "name": "python"
    }
  },
  "cells": [
    {
      "cell_type": "code",
      "execution_count": 16,
      "metadata": {
        "id": "Iap2nw4kozTv",
        "colab": {
          "base_uri": "https://localhost:8080/"
        },
        "outputId": "d4261ffc-341d-4163-da5d-484d21cd0fc7"
      },
      "outputs": [
        {
          "output_type": "stream",
          "name": "stdout",
          "text": [
            "Writing 1.cpp\n"
          ]
        }
      ],
      "source": [
        "%%writefile 1.cpp\n",
        "#include <iostream>\n",
        "using namespace std;\n",
        "int main(){\n",
        "  int Integer;\n",
        "  cout << \"Please input a positive integer \";\n",
        "  cin >> Integer;\n",
        "  for(int i=2;i!=Integer;i++){\n",
        "    if(Integer % i ==0){\n",
        "      cout << i <<\" \";\n",
        "    }\n",
        "  }\n",
        "}"
      ]
    },
    {
      "cell_type": "code",
      "source": [
        "%%shell\n",
        "g++ 1.cpp -o hw1;\n",
        "./hw1"
      ],
      "metadata": {
        "colab": {
          "base_uri": "https://localhost:8080/"
        },
        "id": "fe9DKBehrG43",
        "outputId": "b4d1a50f-7a55-4d8e-d15e-6ecf31f0dfa7"
      },
      "execution_count": 17,
      "outputs": [
        {
          "output_type": "stream",
          "name": "stdout",
          "text": [
            "Please input a positive integer 100\n",
            "2 4 5 10 20 25 50 "
          ]
        },
        {
          "output_type": "execute_result",
          "data": {
            "text/plain": []
          },
          "metadata": {},
          "execution_count": 17
        }
      ]
    },
    {
      "cell_type": "code",
      "source": [
        "%%writefile 2.cpp\n",
        "#include <iostream>\n",
        "using namespace std;;\n",
        "int main(){\n",
        "  char Letter;\n",
        "  cout << \"Please input a alphabet \";\n",
        "  cin >> Letter;\n",
        "  if(static_cast<int>(Letter)<=90){\n",
        "    cout << \"After converting: \" << static_cast<char>((static_cast<int>(Letter)+32)); \n",
        "  }\n",
        "  else{\n",
        "    cout << \"After converting: \" << static_cast<char>((static_cast<int>(Letter)-32));\n",
        "  }\n",
        "}\n"
      ],
      "metadata": {
        "colab": {
          "base_uri": "https://localhost:8080/"
        },
        "id": "YfKgO3pwsc84",
        "outputId": "48d1344b-0c6e-4d64-f54e-a1ddaf3a8d48"
      },
      "execution_count": 13,
      "outputs": [
        {
          "output_type": "stream",
          "name": "stdout",
          "text": [
            "Overwriting 2.cpp\n"
          ]
        }
      ]
    },
    {
      "cell_type": "code",
      "source": [
        "%%shell\n",
        "g++ 2.cpp -o hw2;\n",
        "./hw2"
      ],
      "metadata": {
        "colab": {
          "base_uri": "https://localhost:8080/"
        },
        "id": "Sd0hJShOwB--",
        "outputId": "86f58f20-bdfb-4448-b061-3eb8fbc40c3b"
      },
      "execution_count": 15,
      "outputs": [
        {
          "output_type": "stream",
          "name": "stdout",
          "text": [
            "Please input a alphabet b\n",
            "After converting: B"
          ]
        },
        {
          "output_type": "execute_result",
          "data": {
            "text/plain": []
          },
          "metadata": {},
          "execution_count": 15
        }
      ]
    },
    {
      "cell_type": "code",
      "source": [],
      "metadata": {
        "id": "TtC7Zb1fwB4f"
      },
      "execution_count": null,
      "outputs": []
    }
  ]
}