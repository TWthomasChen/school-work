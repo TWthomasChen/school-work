{
  "nbformat": 4,
  "nbformat_minor": 0,
  "metadata": {
    "colab": {
      "provenance": []
    },
    "kernelspec": {
      "name": "python3",
      "display_name": "Python 3"
    },
    "language_info": {
      "name": "python"
    }
  },
  "cells": [
    {
      "cell_type": "code",
      "execution_count": 11,
      "metadata": {
        "colab": {
          "base_uri": "https://localhost:8080/"
        },
        "id": "ZNfbtLthWJPS",
        "outputId": "a4ae0104-33e9-4269-aac5-abc865097685"
      },
      "outputs": [
        {
          "output_type": "stream",
          "name": "stdout",
          "text": [
            "Overwriting H34111130_Week4.cpp\n"
          ]
        }
      ],
      "source": [
        "%%writefile H34111130_Week4.cpp\n",
        "\n",
        "#include <iostream>\n",
        "\n",
        "int main(){\n",
        "  int Fn, n=2, Fn_1 = 1, Fn_2 = 0;\n",
        "  while( n<21 ){\n",
        "    Fn = Fn_1 + Fn_2;\n",
        "    std::cout << \"F\" << n << \"=\" << Fn << std::endl ;\n",
        "    Fn_2 = Fn_1;\n",
        "    Fn_1 = Fn ;\n",
        "    n = n+1;\n",
        "    \n",
        "  }\n",
        "  \n",
        "\n",
        "}"
      ]
    },
    {
      "cell_type": "markdown",
      "source": [],
      "metadata": {
        "id": "LnCGemCSY0CC"
      }
    },
    {
      "cell_type": "code",
      "source": [
        "%%shell\n",
        "\n",
        "g++ H34111130_Week4.cpp -o H34111130_Week4;\n",
        "./H34111130_Week4"
      ],
      "metadata": {
        "colab": {
          "base_uri": "https://localhost:8080/"
        },
        "id": "aZUYPIGSXNnC",
        "outputId": "08bd40eb-999a-42eb-a49b-c571a2f67d14"
      },
      "execution_count": 12,
      "outputs": [
        {
          "output_type": "stream",
          "name": "stdout",
          "text": [
            "F2=1\n",
            "F3=2\n",
            "F4=3\n",
            "F5=5\n",
            "F6=8\n",
            "F7=13\n",
            "F8=21\n",
            "F9=34\n",
            "F10=55\n",
            "F11=89\n",
            "F12=144\n",
            "F13=233\n",
            "F14=377\n",
            "F15=610\n",
            "F16=987\n",
            "F17=1597\n",
            "F18=2584\n",
            "F19=4181\n",
            "F20=6765\n"
          ]
        },
        {
          "output_type": "execute_result",
          "data": {
            "text/plain": []
          },
          "metadata": {},
          "execution_count": 12
        }
      ]
    }
  ]
}